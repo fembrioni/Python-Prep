{
 "cells": [
  {
   "cell_type": "markdown",
   "metadata": {},
   "source": [
    "1 Crear una variable que contenga un elemento del conjunto de números enteros y luego imprimir por pantalla si es mayor o menor a cero"
   ]
  },
  {
   "cell_type": "code",
   "execution_count": 5,
   "metadata": {},
   "outputs": [
    {
     "name": "stdout",
     "output_type": "stream",
     "text": [
      "10 es mayor que cero\n"
     ]
    }
   ],
   "source": [
    "v1 = 10\n",
    "if (v1 > 0):\n",
    "    print(v1, 'es mayor que cero')\n",
    "elif (v1 < 0):\n",
    "    print(v1, 'es menor que cero')\n",
    "else:\n",
    "    print('v1 vale cero')"
   ]
  },
  {
   "cell_type": "markdown",
   "metadata": {},
   "source": [
    "2 Crear dos variables y un condicional que informe si son del mismo tipo de dato"
   ]
  },
  {
   "cell_type": "code",
   "execution_count": 1,
   "metadata": {},
   "outputs": [
    {
     "name": "stdout",
     "output_type": "stream",
     "text": [
      "Las variables tienen el mismo tipo de datos\n"
     ]
    }
   ],
   "source": [
    "v2a = 'hola'\n",
    "v2b = 'mundo'\n",
    "if (type(v2a) == type(v2b)):\n",
    "    print('Las variables tienen el mismo tipo de datos')\n",
    "else:\n",
    "    print('Las variables tienen distinto tipo de datos')"
   ]
  },
  {
   "cell_type": "markdown",
   "metadata": {},
   "source": [
    "3 Para los valores enteros del 1 al 20, imprimir por pantalla si es par o impar"
   ]
  },
  {
   "cell_type": "code",
   "execution_count": 2,
   "metadata": {},
   "outputs": [
    {
     "name": "stdout",
     "output_type": "stream",
     "text": [
      "1 es impar\n",
      "2 es par\n",
      "3 es impar\n",
      "4 es par\n",
      "5 es impar\n",
      "6 es par\n",
      "7 es impar\n",
      "8 es par\n",
      "9 es impar\n",
      "10 es par\n",
      "11 es impar\n",
      "12 es par\n",
      "13 es impar\n",
      "14 es par\n",
      "15 es impar\n",
      "16 es par\n",
      "17 es impar\n",
      "18 es par\n",
      "19 es impar\n",
      "20 es par\n"
     ]
    }
   ],
   "source": [
    "for i in range(1,21):\n",
    "    impar_o_par = 'impar'\n",
    "    if (i % 2 == 0):\n",
    "        impar_o_par = 'par'\n",
    "    print('{} es {}'.format(i, impar_o_par))"
   ]
  },
  {
   "cell_type": "markdown",
   "metadata": {},
   "source": [
    "4 En un ciclo for mostrar para los valores entre 0 y 5 el resultado de elevarlo a la potencia igual a 3"
   ]
  },
  {
   "cell_type": "code",
   "execution_count": 3,
   "metadata": {},
   "outputs": [
    {
     "name": "stdout",
     "output_type": "stream",
     "text": [
      "0 elevado al cubo es 0\n",
      "1 elevado al cubo es 1\n",
      "2 elevado al cubo es 8\n",
      "3 elevado al cubo es 27\n",
      "4 elevado al cubo es 64\n",
      "5 elevado al cubo es 125\n"
     ]
    }
   ],
   "source": [
    "for i in range(0,6):\n",
    "    print('{} elevado al cubo es {}'.format(i, i**3))"
   ]
  },
  {
   "cell_type": "markdown",
   "metadata": {},
   "source": [
    "5 Crear una variable que contenga un número entero y realizar un ciclo for la misma cantidad de ciclos"
   ]
  },
  {
   "cell_type": "code",
   "execution_count": 5,
   "metadata": {},
   "outputs": [
    {
     "name": "stdout",
     "output_type": "stream",
     "text": [
      "Ciclo pasada 1\n",
      "Ciclo pasada 2\n",
      "Ciclo pasada 3\n",
      "Ciclo pasada 4\n",
      "Ciclo pasada 5\n",
      "Ciclo pasada 6\n",
      "Ciclo pasada 7\n",
      "Ciclo pasada 8\n",
      "Ciclo pasada 9\n"
     ]
    }
   ],
   "source": [
    "v5 = 9\n",
    "for i in range(0,v5):\n",
    "    print('Ciclo pasada {}'.format(i + 1))"
   ]
  },
  {
   "cell_type": "markdown",
   "metadata": {},
   "source": [
    "6 Utilizar un ciclo while para realizar el factoreo de un número guardado en una variable, sólo si la variable contiene un número entero mayor a 0"
   ]
  },
  {
   "cell_type": "code",
   "execution_count": 25,
   "metadata": {},
   "outputs": [
    {
     "name": "stdout",
     "output_type": "stream",
     "text": [
      "El factoreo de 1111 es:\n",
      " 11 elevado a la 1 potencia\n",
      " 101 elevado a la 1 potencia\n",
      " 1 elevado a la 1 potencia\n"
     ]
    }
   ],
   "source": [
    "v6a = 1111\n",
    "v6b = v6a\n",
    "list6_divisor = []\n",
    "list6_quantity = []\n",
    "\n",
    "def add_ocurrence_to(element):\n",
    "    if (element in list6_divisor):\n",
    "        idx = list6_divisor.index(element)\n",
    "        list6_quantity[idx] += 1\n",
    "    else:\n",
    "        list6_divisor.append(element)\n",
    "        list6_quantity.append(1)\n",
    "    return\n",
    "\n",
    "while (v6b > 0):\n",
    "    if (v6b == 1):\n",
    "        add_ocurrence_to(1)\n",
    "        v6b =0\n",
    "    else:\n",
    "        for i in range(2,v6b + 1):\n",
    "            if (v6b % i == 0):\n",
    "                add_ocurrence_to(i)\n",
    "                v6b = v6b // i\n",
    "                break\n",
    "\n",
    "print('El factoreo de {} es:'.format(v6a))\n",
    "for i in range(0, len(list6_divisor)):\n",
    "    print(' {} elevado a la {} potencia'.format(list6_divisor[i], list6_quantity[i]))"
   ]
  },
  {
   "cell_type": "markdown",
   "metadata": {},
   "source": [
    "7 Crear un ciclo for dentro de un ciclo while"
   ]
  },
  {
   "cell_type": "code",
   "execution_count": 27,
   "metadata": {},
   "outputs": [
    {
     "name": "stdout",
     "output_type": "stream",
     "text": [
      "While 4 for 0\n",
      "While 4 for 1\n",
      "While 3 for 0\n",
      "While 3 for 1\n",
      "While 2 for 0\n",
      "While 2 for 1\n",
      "While 1 for 0\n",
      "While 1 for 1\n"
     ]
    }
   ],
   "source": [
    "v7 = 4\n",
    "while (v7 > 0):\n",
    "    for i in range(0,2):\n",
    "        print('While {} for {}'.format(v7, i))\n",
    "    v7 -= 1"
   ]
  },
  {
   "cell_type": "markdown",
   "metadata": {},
   "source": [
    "8 Crear un ciclo while dentro de un ciclo for"
   ]
  },
  {
   "cell_type": "code",
   "execution_count": 28,
   "metadata": {},
   "outputs": [
    {
     "name": "stdout",
     "output_type": "stream",
     "text": [
      "for 0 while 2\n",
      "for 0 while 1\n",
      "for 1 while 2\n",
      "for 1 while 1\n",
      "for 2 while 2\n",
      "for 2 while 1\n",
      "for 3 while 2\n",
      "for 3 while 1\n",
      "for 4 while 2\n",
      "for 4 while 1\n"
     ]
    }
   ],
   "source": [
    "for i in range(0,5):\n",
    "    v8 = 2\n",
    "    while v8 > 0:\n",
    "        print('for {} while {}'.format(i, v8))\n",
    "        v8 -= 1"
   ]
  },
  {
   "cell_type": "markdown",
   "metadata": {},
   "source": [
    "9 Imprimir los números primos existentes entre 0 y 30"
   ]
  },
  {
   "cell_type": "code",
   "execution_count": 31,
   "metadata": {},
   "outputs": [
    {
     "name": "stdout",
     "output_type": "stream",
     "text": [
      "0\n",
      "1\n",
      "2\n",
      "3\n",
      "5\n",
      "7\n",
      "11\n",
      "13\n",
      "17\n",
      "19\n",
      "23\n",
      "29\n"
     ]
    }
   ],
   "source": [
    "for i in range(0,31):\n",
    "    if i < 4:\n",
    "        print(i)\n",
    "        continue\n",
    "    tiene_divisor = False\n",
    "    divisor_de_prueba = 2\n",
    "    while (divisor_de_prueba < i):\n",
    "        if (i % divisor_de_prueba == 0):\n",
    "            tiene_divisor = True\n",
    "            break\n",
    "        divisor_de_prueba += 1\n",
    "    if (not(tiene_divisor)):\n",
    "        print(i)"
   ]
  },
  {
   "cell_type": "markdown",
   "metadata": {},
   "source": [
    "10 ¿Se puede mejorar el proceso del punto 9? Utilizar las sentencias break y/ó continue para tal fin\n",
    "   Rta: Ya lo hice asi"
   ]
  },
  {
   "cell_type": "markdown",
   "metadata": {},
   "source": [
    "11 En los puntos 9 y 10, se diseño un código que encuentra números primos y además se lo optimizó. ¿Es posible saber en qué medida se optimizó?\n",
    "  Rta: Si. Para el caso de los no primos, la secuencia de busqueda es mucho menor. Por ejemplo, los pares solo ejecutan el while una sola vez"
   ]
  },
  {
   "cell_type": "markdown",
   "metadata": {},
   "source": [
    "12 Si la cantidad de números que se evalúa es mayor a treinta, esa optimización crece?\n",
    "  Rta: Para los pares continua igual"
   ]
  },
  {
   "cell_type": "markdown",
   "metadata": {},
   "source": [
    "13 Aplicando continue, armar un ciclo while que solo imprima los valores divisibles por 12, dentro del rango de números de 100 a 300"
   ]
  },
  {
   "cell_type": "code",
   "execution_count": 32,
   "metadata": {},
   "outputs": [
    {
     "name": "stdout",
     "output_type": "stream",
     "text": [
      "108 es divisible por 12\n",
      "120 es divisible por 12\n",
      "132 es divisible por 12\n",
      "144 es divisible por 12\n",
      "156 es divisible por 12\n",
      "168 es divisible por 12\n",
      "180 es divisible por 12\n",
      "192 es divisible por 12\n",
      "204 es divisible por 12\n",
      "216 es divisible por 12\n",
      "228 es divisible por 12\n",
      "240 es divisible por 12\n",
      "252 es divisible por 12\n",
      "264 es divisible por 12\n",
      "276 es divisible por 12\n",
      "288 es divisible por 12\n",
      "300 es divisible por 12\n"
     ]
    }
   ],
   "source": [
    "v13 = 100\n",
    "while (v13 < 301):\n",
    "    if (v13 % 12 == 0):\n",
    "        print('{} es divisible por 12'.format(v13))\n",
    "    v13 += 1"
   ]
  },
  {
   "cell_type": "markdown",
   "metadata": {},
   "source": [
    "14 Utilizar la función input() que permite hacer ingresos por teclado, para encontrar números primos y dar la opción al usario de buscar el siguiente"
   ]
  },
  {
   "cell_type": "code",
   "execution_count": 2,
   "metadata": {},
   "outputs": [
    {
     "name": "stdout",
     "output_type": "stream",
     "text": [
      "El numero ingresado no es primo\n",
      "El proximo numero primo es 41\n"
     ]
    }
   ],
   "source": [
    "def es_primo(numero):\n",
    "    if numero < 4:\n",
    "        return True\n",
    "    numero_es_primo = True\n",
    "    divisor_de_prueba = 2\n",
    "    while (divisor_de_prueba < numero):\n",
    "        if (numero % divisor_de_prueba == 0):\n",
    "            numero_es_primo = False\n",
    "            break\n",
    "        divisor_de_prueba += 1\n",
    "    return numero_es_primo\n",
    "\n",
    "v14a = int(input('Ingrese un numero para saber si es primo, y si no, encontrar el siguiente'))\n",
    "\n",
    "if es_primo(v14a):\n",
    "    print('{} es un numero primo'.format(v14a))\n",
    "else:\n",
    "    print('El numero ingresado no es primo')\n",
    "    v14b = v14a + 1\n",
    "    while not(es_primo(v14b)):\n",
    "        v14b += 1\n",
    "    print('El proximo numero primo es {}'.format(v14b))"
   ]
  },
  {
   "cell_type": "markdown",
   "metadata": {},
   "source": [
    "15 Crear un ciclo while que encuentre dentro del rango de 100 a 300 el primer número divisible por 3 y además múltiplo de 6"
   ]
  },
  {
   "cell_type": "code",
   "execution_count": 1,
   "metadata": {},
   "outputs": [
    {
     "name": "stdout",
     "output_type": "stream",
     "text": [
      "102 es divisible por 3 y por 6\n"
     ]
    }
   ],
   "source": [
    "v15a = 100\n",
    "while v15a < 301:\n",
    "    # if (v15a % 3 == 0 and v15a % 6 == 0): <- No se usa esto dado que 6 es divisible por 3\n",
    "    if (v15a % 6 == 0):\n",
    "        print('{} es divisible por 3 y por 6'.format(v15a))\n",
    "        break\n",
    "    v15a += 1\n"
   ]
  }
 ],
 "metadata": {
  "kernelspec": {
   "display_name": "Python 3.9.6 64-bit",
   "language": "python",
   "name": "python3"
  },
  "language_info": {
   "codemirror_mode": {
    "name": "ipython",
    "version": 3
   },
   "file_extension": ".py",
   "mimetype": "text/x-python",
   "name": "python",
   "nbconvert_exporter": "python",
   "pygments_lexer": "ipython3",
   "version": "3.9.6"
  },
  "orig_nbformat": 4,
  "vscode": {
   "interpreter": {
    "hash": "31f2aee4e71d21fbe5cf8b01ff0e069b9275f58929596ceb00d14d90e3e16cd6"
   }
  }
 },
 "nbformat": 4,
 "nbformat_minor": 2
}
