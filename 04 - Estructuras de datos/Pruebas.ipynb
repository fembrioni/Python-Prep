{
 "cells": [
  {
   "cell_type": "markdown",
   "metadata": {},
   "source": [
    "Pruebas con estructuras de datos"
   ]
  },
  {
   "cell_type": "code",
   "execution_count": 9,
   "metadata": {},
   "outputs": [
    {
     "name": "stdout",
     "output_type": "stream",
     "text": [
      "{'key1': 'value1', 'key2': [1, 2, 3, 4, 5]}\n"
     ]
    }
   ],
   "source": [
    "mi_dicc = {'key1' : 'value1',\n",
    "            'key2' : [1, 2, 3, 4, 5]}\n",
    "print(mi_dicc)"
   ]
  },
  {
   "cell_type": "code",
   "execution_count": 11,
   "metadata": {},
   "outputs": [
    {
     "name": "stdout",
     "output_type": "stream",
     "text": [
      "{'key1': 'another value', 'key2': [1, 2, 3, 4, 5]}\n"
     ]
    }
   ],
   "source": [
    "mi_dicc['key1'] = 'another value'\n",
    "print(mi_dicc)"
   ]
  },
  {
   "cell_type": "code",
   "execution_count": 12,
   "metadata": {},
   "outputs": [],
   "source": [
    "del(mi_dicc['key1'])"
   ]
  },
  {
   "cell_type": "code",
   "execution_count": 13,
   "metadata": {},
   "outputs": [
    {
     "data": {
      "text/plain": [
       "{'key2': [1, 2, 3, 4, 5]}"
      ]
     },
     "execution_count": 13,
     "metadata": {},
     "output_type": "execute_result"
    }
   ],
   "source": [
    "mi_dicc"
   ]
  },
  {
   "cell_type": "markdown",
   "metadata": {},
   "source": [
    "Las listas son objetos?\n",
    "   Rta: Si. Son objetos. l2 no es una copia de l1 si no que es el mismo objeto"
   ]
  },
  {
   "cell_type": "code",
   "execution_count": 1,
   "metadata": {},
   "outputs": [
    {
     "name": "stdout",
     "output_type": "stream",
     "text": [
      "['hola', 'mundo']\n",
      "['hola', 'mundo']\n"
     ]
    }
   ],
   "source": [
    "l1 = ['hola']\n",
    "l2 = l1\n",
    "l2.append('mundo')\n",
    "print(l1)\n",
    "print(l2)"
   ]
  },
  {
   "cell_type": "code",
   "execution_count": 3,
   "metadata": {},
   "outputs": [
    {
     "name": "stdout",
     "output_type": "stream",
     "text": [
      "['hola']\n",
      "['hola', 'muundo']\n"
     ]
    }
   ],
   "source": [
    "l1 = ['hola']\n",
    "l2 = l1.copy()\n",
    "l2.append('muundo')\n",
    "print(l1)\n",
    "print(l2)"
   ]
  },
  {
   "cell_type": "markdown",
   "metadata": {},
   "source": [
    "De una lista con elementos que pudieran estar repetidos, informar por cada uno la cantidad de veces que aparecen en la lista"
   ]
  },
  {
   "cell_type": "code",
   "execution_count": 6,
   "metadata": {},
   "outputs": [
    {
     "name": "stdout",
     "output_type": "stream",
     "text": [
      "El elemento 8 se encuentra 1 vez/veces en la lista\n",
      "El elemento 7 se encuentra 1 vez/veces en la lista\n",
      "El elemento 6 se encuentra 1 vez/veces en la lista\n",
      "El elemento 5 se encuentra 1 vez/veces en la lista\n",
      "El elemento 4 se encuentra 2 vez/veces en la lista\n",
      "El elemento 3 se encuentra 3 vez/veces en la lista\n",
      "El elemento 2 se encuentra 3 vez/veces en la lista\n",
      "El elemento 1 se encuentra 2 vez/veces en la lista\n"
     ]
    }
   ],
   "source": [
    "lista_con_repetidos = [1,2,3,4,5,4,3,2,6,7,8,1,2,3]\n",
    "lista_unicos_elem = []\n",
    "lista_unicos_cant = []\n",
    "for elemento in lista_con_repetidos:\n",
    "    if not(elemento in lista_unicos_elem):\n",
    "        lista_unicos_elem.append(elemento)\n",
    "        lista_unicos_cant.append(lista_con_repetidos.count(elemento))\n",
    "while (len(lista_unicos_elem) > 0):\n",
    "    print('El elemento {} se encuentra {} vez/veces en la lista'.format(lista_unicos_elem.pop(),lista_unicos_cant.pop()))"
   ]
  },
  {
   "cell_type": "markdown",
   "metadata": {},
   "source": [
    "Iteradores e iterables"
   ]
  },
  {
   "cell_type": "code",
   "execution_count": 7,
   "metadata": {},
   "outputs": [
    {
     "data": {
      "text/plain": [
       "'h-o-l-a'"
      ]
     },
     "execution_count": 7,
     "metadata": {},
     "output_type": "execute_result"
    }
   ],
   "source": [
    "'-'.join('hola')"
   ]
  },
  {
   "cell_type": "code",
   "execution_count": 8,
   "metadata": {},
   "outputs": [
    {
     "name": "stdout",
     "output_type": "stream",
     "text": [
      "key1\n",
      "key2\n"
     ]
    }
   ],
   "source": [
    "dicc = {'key1': 1, 'key2': 2}\n",
    "for i in dicc:\n",
    "    print(i)"
   ]
  },
  {
   "cell_type": "code",
   "execution_count": 9,
   "metadata": {},
   "outputs": [
    {
     "name": "stdout",
     "output_type": "stream",
     "text": [
      "1\n",
      "2\n"
     ]
    }
   ],
   "source": [
    "for i in dicc:\n",
    "    print(dicc[i])"
   ]
  },
  {
   "cell_type": "markdown",
   "metadata": {},
   "source": [
    "Iterators"
   ]
  },
  {
   "cell_type": "code",
   "execution_count": 11,
   "metadata": {},
   "outputs": [
    {
     "name": "stdout",
     "output_type": "stream",
     "text": [
      "a\n",
      "b\n"
     ]
    }
   ],
   "source": [
    "lista = ['a', 'b', 'c', 'd', 'e']\n",
    "iterador = iter(lista)\n",
    "print(next(iterador))\n",
    "print(next(iterador))"
   ]
  },
  {
   "cell_type": "markdown",
   "metadata": {},
   "source": [
    "Zip"
   ]
  },
  {
   "cell_type": "code",
   "execution_count": 13,
   "metadata": {},
   "outputs": [
    {
     "name": "stdout",
     "output_type": "stream",
     "text": [
      "[(1, 'uno'), (2, 'dos')]\n"
     ]
    }
   ],
   "source": [
    "a = [1, 2]\n",
    "b = ['uno', 'dos']\n",
    "c = zip(a, b)\n",
    "print(list(c))"
   ]
  },
  {
   "cell_type": "markdown",
   "metadata": {},
   "source": [
    "Condicionales en una iteracion"
   ]
  },
  {
   "cell_type": "code",
   "execution_count": 15,
   "metadata": {},
   "outputs": [
    {
     "name": "stdout",
     "output_type": "stream",
     "text": [
      "['a', 'a', 'a', 'a', 'a', 'a', 'a', 'a']\n"
     ]
    }
   ],
   "source": [
    "frase = 'Algoritmo que extrae las letras a de una frase dada'\n",
    "letras_a = [i for i in frase if i == 'a']\n",
    "print(letras_a)"
   ]
  },
  {
   "cell_type": "markdown",
   "metadata": {},
   "source": [
    "Enumeradores"
   ]
  },
  {
   "cell_type": "code",
   "execution_count": 16,
   "metadata": {},
   "outputs": [
    {
     "name": "stdout",
     "output_type": "stream",
     "text": [
      "Indice 0 valor h\n",
      "Indice 1 valor o\n",
      "Indice 2 valor l\n",
      "Indice 3 valor a\n"
     ]
    }
   ],
   "source": [
    "cadena = 'hola'\n",
    "for i, c in enumerate(cadena):\n",
    "    print('Indice {} valor {}'.format(i, c))"
   ]
  },
  {
   "cell_type": "markdown",
   "metadata": {},
   "source": [
    "Cómo saber si una clase es una subclase de Iterable?"
   ]
  },
  {
   "cell_type": "code",
   "execution_count": 17,
   "metadata": {},
   "outputs": [
    {
     "name": "stderr",
     "output_type": "stream",
     "text": [
      "/var/folders/98/6bmv0tnx3l7c05z7h85skmfh0000gn/T/ipykernel_9088/1105969159.py:1: DeprecationWarning: Using or importing the ABCs from 'collections' instead of from 'collections.abc' is deprecated since Python 3.3, and in 3.10 it will stop working\n",
      "  from collections import Iterable\n"
     ]
    },
    {
     "data": {
      "text/plain": [
       "True"
      ]
     },
     "execution_count": 17,
     "metadata": {},
     "output_type": "execute_result"
    }
   ],
   "source": [
    "from collections import Iterable\n",
    "isinstance(cadena, Iterable)"
   ]
  }
 ],
 "metadata": {
  "kernelspec": {
   "display_name": "Python 3.9.6 64-bit",
   "language": "python",
   "name": "python3"
  },
  "language_info": {
   "codemirror_mode": {
    "name": "ipython",
    "version": 3
   },
   "file_extension": ".py",
   "mimetype": "text/x-python",
   "name": "python",
   "nbconvert_exporter": "python",
   "pygments_lexer": "ipython3",
   "version": "3.9.6"
  },
  "orig_nbformat": 4,
  "vscode": {
   "interpreter": {
    "hash": "31f2aee4e71d21fbe5cf8b01ff0e069b9275f58929596ceb00d14d90e3e16cd6"
   }
  }
 },
 "nbformat": 4,
 "nbformat_minor": 2
}
